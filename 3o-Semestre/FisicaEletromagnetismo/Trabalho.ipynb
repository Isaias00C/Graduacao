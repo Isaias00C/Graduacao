{
 "cells": [
  {
   "cell_type": "code",
   "execution_count": 2,
   "id": "5179c5ab",
   "metadata": {},
   "outputs": [
    {
     "name": "stderr",
     "output_type": "stream",
     "text": [
      "C:\\Users\\isaia\\AppData\\Roaming\\Python\\Python312\\site-packages\\pydub\\utils.py:170: RuntimeWarning: Couldn't find ffmpeg or avconv - defaulting to ffmpeg, but may not work\n",
      "  warn(\"Couldn't find ffmpeg or avconv - defaulting to ffmpeg, but may not work\", RuntimeWarning)\n"
     ]
    }
   ],
   "source": [
    "from manim import *\n",
    "import math\n",
    "# https://docs.manim.community/en/stable/index.html"
   ]
  },
  {
   "cell_type": "code",
   "execution_count": null,
   "id": "3a0ab88f",
   "metadata": {},
   "outputs": [
    {
     "data": {
      "text/html": [
       "<pre style=\"white-space:pre;overflow-x:auto;line-height:normal;font-family:Menlo,'DejaVu Sans Mono',consolas,'Courier New',monospace\">Manim Community <span style=\"color: #008000; text-decoration-color: #008000\">v0.19.0</span>\n",
       "\n",
       "</pre>\n"
      ],
      "text/plain": [
       "Manim Community \u001b[32mv0.\u001b[0m\u001b[32m19.0\u001b[0m\n",
       "\n"
      ]
     },
     "metadata": {},
     "output_type": "display_data"
    },
    {
     "name": "stderr",
     "output_type": "stream",
     "text": [
      "                                                                                                 \r"
     ]
    },
    {
     "data": {
      "text/html": [
       "<video src=\"media\\jupyter\\CorrenteCampoPerspectiva@2025-05-24@09-21-39.mp4\" controls autoplay loop style=\"max-width: 60%;\"  >\n",
       "      Your browser does not support the <code>video</code> element.\n",
       "    </video>"
      ],
      "text/plain": [
       "<IPython.core.display.Video object>"
      ]
     },
     "metadata": {},
     "output_type": "display_data"
    }
   ],
   "source": [
    "%%manim -qh -v WARNING CorrenteCampoPerspectiva\n",
    "\n",
    "class CorrenteCampoPerspectivaCorrigida(ThreeDScene):\n",
    "    def construct(self):\n",
    "        # Configurações\n",
    "        fio_comprimento = 6\n",
    "        fio = Line(LEFT * fio_comprimento/2, RIGHT * fio_comprimento/2, color=BLUE)\n",
    "        fio.set_stroke(width=8)\n",
    "\n",
    "        # 1. Fio e pontos alinhados\n",
    "        self.play(Create(fio))\n",
    "        \n",
    "        # Partículas alinhadas sobre o fio\n",
    "        particulas = VGroup()\n",
    "        num_particulas = 10\n",
    "        espacamento = fio_comprimento / (num_particulas + 1)\n",
    "        \n",
    "        for i in range(num_particulas):\n",
    "            particula = Dot(\n",
    "                point=fio.get_start() + RIGHT * espacamento * (i + 1),\n",
    "                color=RED,\n",
    "                radius=0.1\n",
    "            )\n",
    "            particulas.add(particula)\n",
    "\n",
    "        self.play(LaggedStart(*[Create(p) for p in particulas], lag_ratio=0.1), run_time=2)\n",
    "        self.wait(0.5)\n",
    "\n",
    "        # Animação da corrente\n",
    "        self.play(\n",
    "            particulas.animate.shift(RIGHT * fio_comprimento),\n",
    "            run_time=5,\n",
    "            rate_func=linear\n",
    "        )\n",
    "        self.wait(1)\n",
    "\n",
    "        # 2. Transição para visão 3D\n",
    "        self.move_camera(\n",
    "            theta=-180 * DEGREES,\n",
    "            phi=75 * DEGREES,\n",
    "            frame_center=[0,0,0],\n",
    "            run_time=3\n",
    "        )\n",
    "\n",
    "        self.wait(1)\n",
    "\n",
    "        # 3. Campo magnético circular\n",
    "        campo = VGroup()\n",
    "        for raio in np.linspace(0.5, 2, 4):\n",
    "            circulo = Circle(radius=raio, color=GREEN, stroke_width=2)\n",
    "            circulo.move_to(fio.get_center())\n",
    "            circulo.rotate(90 * DEGREES, axis=RIGHT)\n",
    "            campo.add(circulo)\n",
    "\n",
    "        self.play(LaggedStart(*[Create(c) for c in campo], lag_ratio=0.3), run_time=4)\n",
    "        self.wait(3)\n"
   ]
  },
  {
   "cell_type": "code",
   "execution_count": null,
   "id": "e901c412",
   "metadata": {},
   "outputs": [
    {
     "data": {
      "text/html": [
       "<pre style=\"white-space:pre;overflow-x:auto;line-height:normal;font-family:Menlo,'DejaVu Sans Mono',consolas,'Courier New',monospace\">Manim Community <span style=\"color: #008000; text-decoration-color: #008000\">v0.19.0</span>\n",
       "\n",
       "</pre>\n"
      ],
      "text/plain": [
       "Manim Community \u001b[32mv0.\u001b[0m\u001b[32m19.0\u001b[0m\n",
       "\n"
      ]
     },
     "metadata": {},
     "output_type": "display_data"
    },
    {
     "name": "stderr",
     "output_type": "stream",
     "text": [
      "                                                                                      \r"
     ]
    },
    {
     "data": {
      "text/html": [
       "<video src=\"media\\jupyter\\Main@2025-05-25@18-10-03.mp4\" controls autoplay loop style=\"max-width: 60%;\"  >\n",
       "      Your browser does not support the <code>video</code> element.\n",
       "    </video>"
      ],
      "text/plain": [
       "<IPython.core.display.Video object>"
      ]
     },
     "metadata": {},
     "output_type": "display_data"
    }
   ],
   "source": [
    "%%manim -qh -v WARNING Main\n",
    "\n",
    "class Main(Scene):\n",
    "    def InitialFrame(self): # esse função deve criar o fio com pontos andando sobre ele\n",
    "        lineSize = 10\n",
    "        line = Line(start=LEFT * lineSize / 2, end=RIGHT * lineSize / 2)\n",
    "\n",
    "        self.add(line)\n",
    "\n",
    "        points = VGroup(Dot(point=line.get_start(), color=RED) for _ in range(5))\n",
    "\n",
    "        for point in points:\n",
    "            self.add(point)\n",
    "        \n",
    "        self.play(AnimationGroup(*[\n",
    "            points.animate(lag_ratio=0.2, run_time=5).shift(RIGHT * lineSize)\n",
    "        ]))\n",
    "\n",
    "    def construct(self):\n",
    "        self.InitialFrame()"
   ]
  }
 ],
 "metadata": {
  "kernelspec": {
   "display_name": "Python 3",
   "language": "python",
   "name": "python3"
  },
  "language_info": {
   "codemirror_mode": {
    "name": "ipython",
    "version": 3
   },
   "file_extension": ".py",
   "mimetype": "text/x-python",
   "name": "python",
   "nbconvert_exporter": "python",
   "pygments_lexer": "ipython3",
   "version": "3.12.6"
  }
 },
 "nbformat": 4,
 "nbformat_minor": 5
}
