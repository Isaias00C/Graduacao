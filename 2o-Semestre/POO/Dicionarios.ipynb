{
 "cells": [
  {
   "cell_type": "code",
   "execution_count": 1,
   "metadata": {},
   "outputs": [
    {
     "name": "stdout",
     "output_type": "stream",
     "text": [
      "{'Titulo': 'its me mario', 'Autor': 'Eu', 'Ano': 2021}\n"
     ]
    }
   ],
   "source": [
    "#Questao1\n",
    "livro = {\n",
    "    \"Titulo\": \"its me mario\",\n",
    "    \"Autor\": \"Eu\",\n",
    "    \"Ano\": 2021,\n",
    "}\n",
    "\n",
    "print(livro)"
   ]
  },
  {
   "cell_type": "code",
   "execution_count": 3,
   "metadata": {},
   "outputs": [
    {
     "name": "stdout",
     "output_type": "stream",
     "text": [
      "{'nome': 'Isaias', 'telefone': '09213218', 'email': 'email@email.com'}\n"
     ]
    }
   ],
   "source": [
    "#Questao2\n",
    "contato = {}\n",
    "\n",
    "contato[\"nome\"] = \"Isaias\"\n",
    "contato[\"telefone\"] = \"9999999\"\n",
    "contato[\"email\"] = \"email@email.com\"\n",
    "\n",
    "contato[\"telefone\"] = \"09213218\"\n",
    "\n",
    "print(contato)"
   ]
  },
  {
   "cell_type": "code",
   "execution_count": 6,
   "metadata": {},
   "outputs": [
    {
     "name": "stdout",
     "output_type": "stream",
     "text": [
      "a nota do aluno1 é 10\n",
      "a nota do aluno2 é 9\n",
      "a nota do aluno3 é 8\n",
      "{'aluno1': '10', 'aluno3': '8'}\n"
     ]
    }
   ],
   "source": [
    "#Questao3\n",
    "alunos ={\n",
    "    \"aluno1\": \"10\",\n",
    "    \"aluno2\": \"9\",\n",
    "    \"aluno3\": \"8\"\n",
    "}\n",
    "\n",
    "for aluno in alunos:\n",
    "    print(f\"a nota do {aluno} é {alunos[aluno]}\")\n",
    "\n",
    "del alunos[\"aluno2\"]\n",
    "\n",
    "print(alunos)"
   ]
  },
  {
   "cell_type": "code",
   "execution_count": 7,
   "metadata": {},
   "outputs": [
    {
     "name": "stdout",
     "output_type": "stream",
     "text": [
      "{'pao': 2, 'acucar': 1, 'banana': 1, 'leite': 1, 'maça': 1, 'pera': 3}\n"
     ]
    }
   ],
   "source": [
    "#Questao 4\n",
    "lista = [\"pao\", \"acucar\", \"banana\", \"leite\", \"pao\", \"maça\", \"pera\", \"pera\", \"pera\"]\n",
    "\n",
    "dic = {}\n",
    "\n",
    "for iten in lista:\n",
    "    if iten in dic:\n",
    "        dic[iten] += 1\n",
    "    else:\n",
    "        dic[iten] = 1\n",
    "\n",
    "print(dic)"
   ]
  },
  {
   "cell_type": "code",
   "execution_count": null,
   "metadata": {},
   "outputs": [],
   "source": [
    "#Questao5\n"
   ]
  }
 ],
 "metadata": {
  "kernelspec": {
   "display_name": "Python 3",
   "language": "python",
   "name": "python3"
  },
  "language_info": {
   "codemirror_mode": {
    "name": "ipython",
    "version": 3
   },
   "file_extension": ".py",
   "mimetype": "text/x-python",
   "name": "python",
   "nbconvert_exporter": "python",
   "pygments_lexer": "ipython3",
   "version": "3.10.12"
  }
 },
 "nbformat": 4,
 "nbformat_minor": 2
}
